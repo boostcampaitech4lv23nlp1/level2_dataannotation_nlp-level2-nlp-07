{
  "cells": [
    {
      "cell_type": "markdown",
      "metadata": {
        "id": "6ud5MoTQYOLN"
      },
      "source": [
        "제작한 데이터는 LM fine-tuning을 통해 성능을 알아보기 이전에, annotator들의 일치도(iaa)로 우선적으로 평가받게 됩니다. 여기서 활용하는 평가 지표는 Fleiss' Kappa로, 여러 class 및 여러 rater 정보가 있을 때, 이를 반영하여 일치도를 평가하는 방식입니다.  \n",
        "**본 노트북에서는 iaa를 계산하는 방법을 알아봅니다.**"
      ]
    },
    {
      "cell_type": "markdown",
      "metadata": {
        "id": "qqkuR-OPYOLR"
      },
      "source": [
        "### 1. 태깅 결과를 `iaa_sample.xlsx` 파일로 저장한 다음 로드합니다. "
      ]
    },
    {
      "cell_type": "code",
      "execution_count": 48,
      "metadata": {
        "id": "F4J29YpwYOLS"
      },
      "outputs": [],
      "source": [
        "import pandas as pd\n",
        "result = pd.read_excel('수정후_relation.xlsx', engine='openpyxl')"
      ]
    },
    {
      "cell_type": "code",
      "execution_count": 49,
      "metadata": {
        "id": "K2NwAd_K5WUz"
      },
      "outputs": [],
      "source": [
        "labels = {\"stu:하위_학문\":1, \"stu:상위_학문\":2, \"stu:별칭\":3, \"stu:기여자\":4, \"stu:시대\":5, \"stu:연구_집단\":6, \"stu:영향\":7, \"stu:요소\":8,\n",
        "          \"관계_없음\":9, \"lan:하위_언어\":10, \"lan:상위_언어\":11, \"lan:사용_집단\":12, \"lan:사용_지역\":13, \"lan:파생물\":14, \"lan:별칭\":15}"
      ]
    },
    {
      "cell_type": "code",
      "execution_count": 50,
      "metadata": {
        "colab": {
          "base_uri": "https://localhost:8080/",
          "height": 423
        },
        "id": "TT-pjaS_IH2D",
        "outputId": "a69737e8-dfa0-455f-8ef7-b18a6bb6142f"
      },
      "outputs": [
        {
          "data": {
            "text/html": [
              "\n",
              "  <div id=\"df-326be293-e76c-4e61-a9b3-1b493d28c8fd\">\n",
              "    <div class=\"colab-df-container\">\n",
              "      <div>\n",
              "<style scoped>\n",
              "    .dataframe tbody tr th:only-of-type {\n",
              "        vertical-align: middle;\n",
              "    }\n",
              "\n",
              "    .dataframe tbody tr th {\n",
              "        vertical-align: top;\n",
              "    }\n",
              "\n",
              "    .dataframe thead th {\n",
              "        text-align: right;\n",
              "    }\n",
              "</style>\n",
              "<table border=\"1\" class=\"dataframe\">\n",
              "  <thead>\n",
              "    <tr style=\"text-align: right;\">\n",
              "      <th></th>\n",
              "      <th>동민</th>\n",
              "      <th>성현</th>\n",
              "      <th>인희</th>\n",
              "      <th>재욱</th>\n",
              "      <th>한성</th>\n",
              "    </tr>\n",
              "  </thead>\n",
              "  <tbody>\n",
              "    <tr>\n",
              "      <th>0</th>\n",
              "      <td>lan:별칭</td>\n",
              "      <td>lan:별칭</td>\n",
              "      <td>lan:별칭</td>\n",
              "      <td>lan:별칭</td>\n",
              "      <td>lan:별칭</td>\n",
              "    </tr>\n",
              "    <tr>\n",
              "      <th>1</th>\n",
              "      <td>lan:사용_지역</td>\n",
              "      <td>lan:사용_지역</td>\n",
              "      <td>lan:사용_지역</td>\n",
              "      <td>lan:사용_지역</td>\n",
              "      <td>lan:사용_지역</td>\n",
              "    </tr>\n",
              "    <tr>\n",
              "      <th>2</th>\n",
              "      <td>lan:하위_언어</td>\n",
              "      <td>lan:하위_언어</td>\n",
              "      <td>lan:하위_언어</td>\n",
              "      <td>lan:하위_언어</td>\n",
              "      <td>lan:하위_언어</td>\n",
              "    </tr>\n",
              "    <tr>\n",
              "      <th>3</th>\n",
              "      <td>관계_없음</td>\n",
              "      <td>관계_없음</td>\n",
              "      <td>관계_없음</td>\n",
              "      <td>관계_없음</td>\n",
              "      <td>관계_없음</td>\n",
              "    </tr>\n",
              "    <tr>\n",
              "      <th>4</th>\n",
              "      <td>lan:사용_집단</td>\n",
              "      <td>lan:사용_집단</td>\n",
              "      <td>lan:사용_집단</td>\n",
              "      <td>lan:사용_집단</td>\n",
              "      <td>lan:사용_집단</td>\n",
              "    </tr>\n",
              "    <tr>\n",
              "      <th>...</th>\n",
              "      <td>...</td>\n",
              "      <td>...</td>\n",
              "      <td>...</td>\n",
              "      <td>...</td>\n",
              "      <td>...</td>\n",
              "    </tr>\n",
              "    <tr>\n",
              "      <th>1309</th>\n",
              "      <td>관계_없음</td>\n",
              "      <td>관계_없음</td>\n",
              "      <td>관계_없음</td>\n",
              "      <td>관계_없음</td>\n",
              "      <td>관계_없음</td>\n",
              "    </tr>\n",
              "    <tr>\n",
              "      <th>1310</th>\n",
              "      <td>stu:영향</td>\n",
              "      <td>stu:요소</td>\n",
              "      <td>stu:영향</td>\n",
              "      <td>stu:영향</td>\n",
              "      <td>stu:영향</td>\n",
              "    </tr>\n",
              "    <tr>\n",
              "      <th>1311</th>\n",
              "      <td>stu:기여자</td>\n",
              "      <td>stu:기여자</td>\n",
              "      <td>stu:기여자</td>\n",
              "      <td>stu:기여자</td>\n",
              "      <td>stu:기여자</td>\n",
              "    </tr>\n",
              "    <tr>\n",
              "      <th>1312</th>\n",
              "      <td>stu:상위_학문</td>\n",
              "      <td>stu:상위_학문</td>\n",
              "      <td>stu:상위_학문</td>\n",
              "      <td>stu:상위_학문</td>\n",
              "      <td>stu:상위_학문</td>\n",
              "    </tr>\n",
              "    <tr>\n",
              "      <th>1313</th>\n",
              "      <td>stu:하위_학문</td>\n",
              "      <td>stu:하위_학문</td>\n",
              "      <td>stu:하위_학문</td>\n",
              "      <td>stu:하위_학문</td>\n",
              "      <td>stu:하위_학문</td>\n",
              "    </tr>\n",
              "  </tbody>\n",
              "</table>\n",
              "<p>1314 rows × 5 columns</p>\n",
              "</div>\n",
              "      <button class=\"colab-df-convert\" onclick=\"convertToInteractive('df-326be293-e76c-4e61-a9b3-1b493d28c8fd')\"\n",
              "              title=\"Convert this dataframe to an interactive table.\"\n",
              "              style=\"display:none;\">\n",
              "        \n",
              "  <svg xmlns=\"http://www.w3.org/2000/svg\" height=\"24px\"viewBox=\"0 0 24 24\"\n",
              "       width=\"24px\">\n",
              "    <path d=\"M0 0h24v24H0V0z\" fill=\"none\"/>\n",
              "    <path d=\"M18.56 5.44l.94 2.06.94-2.06 2.06-.94-2.06-.94-.94-2.06-.94 2.06-2.06.94zm-11 1L8.5 8.5l.94-2.06 2.06-.94-2.06-.94L8.5 2.5l-.94 2.06-2.06.94zm10 10l.94 2.06.94-2.06 2.06-.94-2.06-.94-.94-2.06-.94 2.06-2.06.94z\"/><path d=\"M17.41 7.96l-1.37-1.37c-.4-.4-.92-.59-1.43-.59-.52 0-1.04.2-1.43.59L10.3 9.45l-7.72 7.72c-.78.78-.78 2.05 0 2.83L4 21.41c.39.39.9.59 1.41.59.51 0 1.02-.2 1.41-.59l7.78-7.78 2.81-2.81c.8-.78.8-2.07 0-2.86zM5.41 20L4 18.59l7.72-7.72 1.47 1.35L5.41 20z\"/>\n",
              "  </svg>\n",
              "      </button>\n",
              "      \n",
              "  <style>\n",
              "    .colab-df-container {\n",
              "      display:flex;\n",
              "      flex-wrap:wrap;\n",
              "      gap: 12px;\n",
              "    }\n",
              "\n",
              "    .colab-df-convert {\n",
              "      background-color: #E8F0FE;\n",
              "      border: none;\n",
              "      border-radius: 50%;\n",
              "      cursor: pointer;\n",
              "      display: none;\n",
              "      fill: #1967D2;\n",
              "      height: 32px;\n",
              "      padding: 0 0 0 0;\n",
              "      width: 32px;\n",
              "    }\n",
              "\n",
              "    .colab-df-convert:hover {\n",
              "      background-color: #E2EBFA;\n",
              "      box-shadow: 0px 1px 2px rgba(60, 64, 67, 0.3), 0px 1px 3px 1px rgba(60, 64, 67, 0.15);\n",
              "      fill: #174EA6;\n",
              "    }\n",
              "\n",
              "    [theme=dark] .colab-df-convert {\n",
              "      background-color: #3B4455;\n",
              "      fill: #D2E3FC;\n",
              "    }\n",
              "\n",
              "    [theme=dark] .colab-df-convert:hover {\n",
              "      background-color: #434B5C;\n",
              "      box-shadow: 0px 1px 3px 1px rgba(0, 0, 0, 0.15);\n",
              "      filter: drop-shadow(0px 1px 2px rgba(0, 0, 0, 0.3));\n",
              "      fill: #FFFFFF;\n",
              "    }\n",
              "  </style>\n",
              "\n",
              "      <script>\n",
              "        const buttonEl =\n",
              "          document.querySelector('#df-326be293-e76c-4e61-a9b3-1b493d28c8fd button.colab-df-convert');\n",
              "        buttonEl.style.display =\n",
              "          google.colab.kernel.accessAllowed ? 'block' : 'none';\n",
              "\n",
              "        async function convertToInteractive(key) {\n",
              "          const element = document.querySelector('#df-326be293-e76c-4e61-a9b3-1b493d28c8fd');\n",
              "          const dataTable =\n",
              "            await google.colab.kernel.invokeFunction('convertToInteractive',\n",
              "                                                     [key], {});\n",
              "          if (!dataTable) return;\n",
              "\n",
              "          const docLinkHtml = 'Like what you see? Visit the ' +\n",
              "            '<a target=\"_blank\" href=https://colab.research.google.com/notebooks/data_table.ipynb>data table notebook</a>'\n",
              "            + ' to learn more about interactive tables.';\n",
              "          element.innerHTML = '';\n",
              "          dataTable['output_type'] = 'display_data';\n",
              "          await google.colab.output.renderOutput(dataTable, element);\n",
              "          const docLink = document.createElement('div');\n",
              "          docLink.innerHTML = docLinkHtml;\n",
              "          element.appendChild(docLink);\n",
              "        }\n",
              "      </script>\n",
              "    </div>\n",
              "  </div>\n",
              "  "
            ],
            "text/plain": [
              "             동민         성현         인희         재욱         한성\n",
              "0        lan:별칭     lan:별칭     lan:별칭     lan:별칭     lan:별칭\n",
              "1     lan:사용_지역  lan:사용_지역  lan:사용_지역  lan:사용_지역  lan:사용_지역\n",
              "2     lan:하위_언어  lan:하위_언어  lan:하위_언어  lan:하위_언어  lan:하위_언어\n",
              "3         관계_없음      관계_없음      관계_없음      관계_없음      관계_없음\n",
              "4     lan:사용_집단  lan:사용_집단  lan:사용_집단  lan:사용_집단  lan:사용_집단\n",
              "...         ...        ...        ...        ...        ...\n",
              "1309      관계_없음      관계_없음      관계_없음      관계_없음      관계_없음\n",
              "1310     stu:영향     stu:요소     stu:영향     stu:영향     stu:영향\n",
              "1311    stu:기여자    stu:기여자    stu:기여자    stu:기여자    stu:기여자\n",
              "1312  stu:상위_학문  stu:상위_학문  stu:상위_학문  stu:상위_학문  stu:상위_학문\n",
              "1313  stu:하위_학문  stu:하위_학문  stu:하위_학문  stu:하위_학문  stu:하위_학문\n",
              "\n",
              "[1314 rows x 5 columns]"
            ]
          },
          "execution_count": 50,
          "metadata": {},
          "output_type": "execute_result"
        }
      ],
      "source": [
        "result"
      ]
    },
    {
      "cell_type": "code",
      "execution_count": 51,
      "metadata": {
        "colab": {
          "base_uri": "https://localhost:8080/"
        },
        "id": "MZwHkKYOKJZO",
        "outputId": "641b4434-13e5-4668-f96c-c6d97ddbc335"
      },
      "outputs": [
        {
          "data": {
            "text/plain": [
              "array([['lan:별칭', 'lan:별칭', 'lan:별칭', 'lan:별칭', 'lan:별칭'],\n",
              "       ['lan:사용_지역', 'lan:사용_지역', 'lan:사용_지역', 'lan:사용_지역', 'lan:사용_지역'],\n",
              "       ['lan:하위_언어', 'lan:하위_언어', 'lan:하위_언어', 'lan:하위_언어', 'lan:하위_언어'],\n",
              "       ...,\n",
              "       ['stu:기여자', 'stu:기여자', 'stu:기여자', 'stu:기여자', 'stu:기여자'],\n",
              "       ['stu:상위_학문', 'stu:상위_학문', 'stu:상위_학문', 'stu:상위_학문', 'stu:상위_학문'],\n",
              "       ['stu:하위_학문', 'stu:하위_학문', 'stu:하위_학문', 'stu:하위_학문', 'stu:하위_학문']],\n",
              "      dtype=object)"
            ]
          },
          "execution_count": 51,
          "metadata": {},
          "output_type": "execute_result"
        }
      ],
      "source": [
        "import numpy as np\n",
        "result = result.to_numpy()\n",
        "result"
      ]
    },
    {
      "cell_type": "code",
      "execution_count": 52,
      "metadata": {
        "colab": {
          "base_uri": "https://localhost:8080/"
        },
        "id": "BI5xU5oNK8Cg",
        "outputId": "d11d0eed-6e18-4e27-cf33-457c7287dce8"
      },
      "outputs": [
        {
          "data": {
            "text/plain": [
              "(1314, 5)"
            ]
          },
          "execution_count": 52,
          "metadata": {},
          "output_type": "execute_result"
        }
      ],
      "source": [
        "result.shape"
      ]
    },
    {
      "cell_type": "code",
      "execution_count": 53,
      "metadata": {
        "colab": {
          "base_uri": "https://localhost:8080/"
        },
        "id": "UNgf03YLFkec",
        "outputId": "de6273fb-e437-41b3-b182-61bd9847cf0d"
      },
      "outputs": [
        {
          "data": {
            "text/plain": [
              "array([[15, 15, 15, 15, 15],\n",
              "       [13, 13, 13, 13, 13],\n",
              "       [10, 10, 10, 10, 10],\n",
              "       ...,\n",
              "       [4, 4, 4, 4, 4],\n",
              "       [2, 2, 2, 2, 2],\n",
              "       [1, 1, 1, 1, 1]], dtype=object)"
            ]
          },
          "execution_count": 53,
          "metadata": {},
          "output_type": "execute_result"
        }
      ],
      "source": [
        "for i in range(len(result)):\n",
        "    for j in range(len(result[i])):\n",
        "        result[i][j] = labels.get(result[i][j])\n",
        "result"
      ]
    },
    {
      "cell_type": "code",
      "execution_count": 54,
      "metadata": {
        "colab": {
          "base_uri": "https://localhost:8080/"
        },
        "id": "n0s1F_OuYOLT",
        "outputId": "c880d22b-a3b9-490a-8170-a7e4757d5c6d"
      },
      "outputs": [
        {
          "name": "stdout",
          "output_type": "stream",
          "text": [
            "15\n"
          ]
        }
      ],
      "source": [
        "num_classes = int(np.max(result))\n",
        "print(num_classes)"
      ]
    },
    {
      "cell_type": "markdown",
      "metadata": {
        "id": "NHEMk9mlYOLT"
      },
      "source": [
        "### 2. Fleiss' Kappa 함수를 선언합니다."
      ]
    },
    {
      "cell_type": "code",
      "execution_count": 55,
      "metadata": {
        "id": "6d17EnvaYOLU"
      },
      "outputs": [],
      "source": [
        "'''\n",
        "Created on Aug 1, 2016\n",
        "@author: skarumbaiah\n",
        "\n",
        "Computes Fleiss' Kappa\n",
        "Joseph L. Fleiss, Measuring Nominal Scale Agreement Among Many Raters, 1971.\n",
        "'''\n",
        "\n",
        "def checkInput(rate, n):\n",
        "    \"\"\"\n",
        "    Check correctness of the input matrix\n",
        "    @param rate - ratings matrix\n",
        "    @return n - number of raters\n",
        "    @throws AssertionError\n",
        "    \"\"\"\n",
        "    N = len(rate)\n",
        "    k = len(rate[0])\n",
        "    assert all(len(rate[i]) == k for i in range(k)), \"Row length != #categories)\"\n",
        "    assert all(isinstance(rate[i][j], int) for i in range(N) for j in range(k)), \"Element not integer\"\n",
        "    assert all(sum(row) == n for row in rate), \"Sum of ratings != #raters)\"\n",
        "\n",
        "def fleissKappa(rate,n):\n",
        "    \"\"\"\n",
        "    Computes the Kappa value\n",
        "    @param rate - ratings matrix containing number of ratings for each subject per category\n",
        "    [size - N X k where N = #subjects and k = #categories]\n",
        "    @param n - number of raters\n",
        "    @return fleiss' kappa\n",
        "    \"\"\"\n",
        "\n",
        "    N = len(rate)\n",
        "    k = len(rate[0])\n",
        "    print(\"#raters = \", n, \", #subjects = \", N, \", #categories = \", k)\n",
        "    checkInput(rate, n)\n",
        "\n",
        "    #mean of the extent to which raters agree for the ith subject\n",
        "    PA = sum([(sum([i**2 for i in row])- n) / (n * (n - 1)) for row in rate])/N\n",
        "    print(\"PA = \", PA)\n",
        "\n",
        "    # mean of squares of proportion of all assignments which were to jth category\n",
        "    PE = sum([j**2 for j in [sum([rows[i] for rows in rate])/(N*n) for i in range(k)]])\n",
        "    print(\"PE =\", PE)\n",
        "\n",
        "    kappa = -float(\"inf\")\n",
        "    try:\n",
        "        kappa = (PA - PE) / (1 - PE)\n",
        "        kappa = float(\"{:.3f}\".format(kappa))\n",
        "    except ZeroDivisionError:\n",
        "        print(\"Expected agreement = 1\")\n",
        "\n",
        "    print(\"Fleiss' Kappa =\", kappa)\n",
        "\n",
        "    return kappa"
      ]
    },
    {
      "cell_type": "markdown",
      "metadata": {
        "id": "Ls3ORcQjYOLV"
      },
      "source": [
        "### 3. 데이터를 Fleiss Kappa를 계산할 수 있는 형태로 변환(transform)합니다. "
      ]
    },
    {
      "cell_type": "code",
      "execution_count": 56,
      "metadata": {
        "id": "SO05a-yTYOLW"
      },
      "outputs": [],
      "source": [
        "transformed_result = []\n",
        "for i in range(len(result)):\n",
        "    temp = np.zeros(num_classes)\n",
        "    for j in range(len(result[i])):\n",
        "        temp[int(result[i][j]-1)] += 1\n",
        "    transformed_result.append(temp.astype(int).tolist())"
      ]
    },
    {
      "cell_type": "markdown",
      "metadata": {
        "id": "afPprBgBYOLY"
      },
      "source": [
        "### 4. IAA를 구합니다."
      ]
    },
    {
      "cell_type": "code",
      "execution_count": 57,
      "metadata": {
        "colab": {
          "base_uri": "https://localhost:8080/"
        },
        "id": "shxsv5jyYOLZ",
        "outputId": "2a5b9153-5e5d-4017-ee51-90b9254c8960"
      },
      "outputs": [
        {
          "name": "stdout",
          "output_type": "stream",
          "text": [
            "#raters =  5 , #subjects =  1314 , #categories =  15\n",
            "PA =  0.8951293759512942\n",
            "PE = 0.12292918551878956\n",
            "Fleiss' Kappa = 0.88\n"
          ]
        }
      ],
      "source": [
        "kappa = fleissKappa(transformed_result,len(result[0]))"
      ]
    }
  ],
  "metadata": {
    "colab": {
      "provenance": []
    },
    "kernelspec": {
      "display_name": "Python 3",
      "language": "python",
      "name": "python3"
    },
    "language_info": {
      "codemirror_mode": {
        "name": "ipython",
        "version": 3
      },
      "file_extension": ".py",
      "mimetype": "text/x-python",
      "name": "python",
      "nbconvert_exporter": "python",
      "pygments_lexer": "ipython3",
      "version": "3.8.6 (tags/v3.8.6:db45529, Sep 23 2020, 15:52:53) [MSC v.1927 64 bit (AMD64)]"
    },
    "vscode": {
      "interpreter": {
        "hash": "6a926afa313b26ae1264fdcf81c726a97e69f6ba2ba780f6aa901948710f8d6e"
      }
    }
  },
  "nbformat": 4,
  "nbformat_minor": 0
}
